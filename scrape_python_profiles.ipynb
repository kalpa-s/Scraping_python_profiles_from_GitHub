{
 "cells": [
  {
   "cell_type": "markdown",
   "metadata": {},
   "source": [
    "# Scraping trending Python developers profile from GitHub"
   ]
  },
  {
   "cell_type": "markdown",
   "metadata": {},
   "source": [
    "## Project Outline\n",
    "\n",
    "<li> Website used for scraping <a href=\"https://github.com/trending/developers/python?since=daily\">https://github.com/trending/developers/python?since=daily</a></li>\n",
    "<li>This is the trending page</li>\n",
    "<li> From the trending page, Get the Developer name, profile URL, popular repo, repo URL, repo desc</li>\n",
    "<li> Navigate to Profile page. Scrape the following details: </li>\n",
    "<ul><li>Name</li>\n",
    "<li>Bio</li>\n",
    "<li> Company</li>\n",
    "<li>Location</li>\n",
    "<li> total contributions this year</li></ul>\n"
   ]
  },
  {
   "cell_type": "markdown",
   "metadata": {},
   "source": [
    "## Scrape the list of Developers from the Trending page"
   ]
  },
  {
   "cell_type": "markdown",
   "metadata": {},
   "source": [
    "<ul> <li> Use Requests library to download the page</li>\n",
    "<li> Use BeautifulSoup to parse and extract information </li>\n",
    "<li> Convert to a Pandas DataFrame</li>\n",
    "</ul>\n"
   ]
  },
  {
   "cell_type": "code",
   "execution_count": 1,
   "metadata": {},
   "outputs": [],
   "source": [
    "! pip install requests --upgrade --quiet"
   ]
  },
  {
   "cell_type": "code",
   "execution_count": 2,
   "metadata": {},
   "outputs": [],
   "source": [
    "! pip install beautifulsoup4 --upgrade --quiet"
   ]
  },
  {
   "cell_type": "code",
   "execution_count": 3,
   "metadata": {},
   "outputs": [],
   "source": [
    "import requests\n",
    "from bs4 import BeautifulSoup\n",
    "import pandas as pd"
   ]
  },
  {
   "cell_type": "markdown",
   "metadata": {},
   "source": [
    "#### First, Write a function to download the page\n",
    "The function:\n",
    "Returns BeautifulSoup doc which contains a parsed web page which has list of trending developers on GitHub.  "
   ]
  },
  {
   "cell_type": "code",
   "execution_count": 4,
   "metadata": {},
   "outputs": [],
   "source": [
    "def get_trending_page():\n",
    "    trending_url='https://github.com/trending/developers/python?since=daily'\n",
    "    #Download the page\n",
    "    response=requests.get(trending_url)\n",
    "    #check for successful response\n",
    "    if response.status_code != 200:\n",
    "        raise Exception ('Failed to load page {}.format (trending_url)')\n",
    "    doc=BeautifulSoup(response.text,'html.parser')\n",
    "    return doc\n"
   ]
  },
  {
   "cell_type": "markdown",
   "metadata": {},
   "source": [
    "#### To get the developer names,  we get `h1` tags with class `h3 lh-condensed`\n",
    "<div>\n",
    "<img src=\"https://i.imgur.com/yfsAIP0.png\" width=\"800\",height=\"1000\"/>\n",
    "</div>"
   ]
  },
  {
   "cell_type": "code",
   "execution_count": 5,
   "metadata": {},
   "outputs": [
    {
     "data": {
      "text/plain": [
       "24"
      ]
     },
     "execution_count": 5,
     "metadata": {},
     "output_type": "execute_result"
    }
   ],
   "source": [
    "doc=get_trending_page()\n",
    "len(doc.find_all('h1',{'class':'h3 lh-condensed'}))"
   ]
  },
  {
   "cell_type": "markdown",
   "metadata": {},
   "source": [
    "#### Functions to parse information from the trending page"
   ]
  },
  {
   "cell_type": "code",
   "execution_count": 6,
   "metadata": {},
   "outputs": [],
   "source": [
    "# to get the list of developer names\n",
    "def get_names(doc):\n",
    "    name_tags=doc.find_all('h1',{'class':'h3 lh-condensed'})\n",
    "    dev_names=[]\n",
    "    for tag in name_tags:\n",
    "        dev_names.append(tag.text.strip())\n",
    "    return dev_names"
   ]
  },
  {
   "cell_type": "code",
   "execution_count": 7,
   "metadata": {},
   "outputs": [
    {
     "data": {
      "text/plain": [
       "['Romain Beaumont',\n",
       " 'Matthias Fey',\n",
       " 'Charles Tapley Hoyt',\n",
       " 'RangiLyu',\n",
       " 'Xingyi Zhou']"
      ]
     },
     "execution_count": 7,
     "metadata": {},
     "output_type": "execute_result"
    }
   ],
   "source": [
    "#checking the function\n",
    "names=get_names(doc)\n",
    "names[:5]"
   ]
  },
  {
   "cell_type": "code",
   "execution_count": 8,
   "metadata": {},
   "outputs": [
    {
     "data": {
      "text/plain": [
       "24"
      ]
     },
     "execution_count": 8,
     "metadata": {},
     "output_type": "execute_result"
    }
   ],
   "source": [
    "len(names)"
   ]
  },
  {
   "cell_type": "markdown",
   "metadata": {},
   "source": [
    "#### Similarly, define functions for profile_URL, repo_names, repo_descriptions and repo_URL"
   ]
  },
  {
   "cell_type": "code",
   "execution_count": 9,
   "metadata": {},
   "outputs": [],
   "source": [
    "# function to get repo_description\n",
    "def get_repo_desc(doc):\n",
    "    repo_desc_tags=doc.findAll('div',{'class':'f6 color-fg-muted mt-1'})\n",
    "    repo_desc=[]\n",
    "    for tag in repo_desc_tags: \n",
    "        repo_desc.append(tag.text.strip())\n",
    "    return repo_desc"
   ]
  },
  {
   "cell_type": "code",
   "execution_count": 10,
   "metadata": {},
   "outputs": [],
   "source": [
    "repo_description=get_repo_desc(doc)\n"
   ]
  },
  {
   "cell_type": "code",
   "execution_count": 11,
   "metadata": {},
   "outputs": [
    {
     "data": {
      "text/plain": [
       "23"
      ]
     },
     "execution_count": 11,
     "metadata": {},
     "output_type": "execute_result"
    }
   ],
   "source": [
    "len(repo_description)"
   ]
  },
  {
   "cell_type": "code",
   "execution_count": 12,
   "metadata": {},
   "outputs": [],
   "source": [
    "#function to get profile URLs\n",
    "base_url=\"https://github.com\"\n",
    "def get_profile_urls(doc):\n",
    "    profile_urls=doc.findAll('h1',{'class':'h3 lh-condensed'})\n",
    "    a_tags=[]\n",
    "    profile_url=[]\n",
    "    for i in range(len(profile_urls)):\n",
    "        a_tags.append(profile_urls[i].find_all('a'))\n",
    "        profile_url.append(base_url + a_tags[i][0]['href'])\n",
    "    return(profile_url)"
   ]
  },
  {
   "cell_type": "code",
   "execution_count": 13,
   "metadata": {},
   "outputs": [
    {
     "data": {
      "text/plain": [
       "['https://github.com/rom1504',\n",
       " 'https://github.com/rusty1s',\n",
       " 'https://github.com/cthoyt',\n",
       " 'https://github.com/RangiLyu',\n",
       " 'https://github.com/xingyizhou']"
      ]
     },
     "execution_count": 13,
     "metadata": {},
     "output_type": "execute_result"
    }
   ],
   "source": [
    "#checking the function\n",
    "\n",
    "pro_urls=get_profile_urls(doc)\n",
    "pro_urls[:5]\n"
   ]
  },
  {
   "cell_type": "code",
   "execution_count": 14,
   "metadata": {},
   "outputs": [
    {
     "data": {
      "text/plain": [
       "24"
      ]
     },
     "execution_count": 14,
     "metadata": {},
     "output_type": "execute_result"
    }
   ],
   "source": [
    "len(pro_urls)"
   ]
  },
  {
   "cell_type": "code",
   "execution_count": 15,
   "metadata": {},
   "outputs": [],
   "source": [
    "#Function to get Repo_URL\n",
    "base_repo_url=\"https://github.com\"\n",
    "def get_repo_urls(doc):\n",
    "    repo_url_tags=doc.findAll('a',{'class':'css-truncate css-truncate-target'})\n",
    "    repo_urls=[]\n",
    "    for tag in repo_url_tags:\n",
    "        repo_urls.append(base_repo_url + tag['href'])\n",
    "    return repo_urls"
   ]
  },
  {
   "cell_type": "code",
   "execution_count": 16,
   "metadata": {},
   "outputs": [
    {
     "data": {
      "text/plain": [
       "['https://github.com/rom1504/img2dataset',\n",
       " 'https://github.com/rusty1s/pytorch_scatter',\n",
       " 'https://github.com/cthoyt/opencheck-embed',\n",
       " 'https://github.com/RangiLyu/nanodet',\n",
       " 'https://github.com/xingyizhou/CenterNet']"
      ]
     },
     "execution_count": 16,
     "metadata": {},
     "output_type": "execute_result"
    }
   ],
   "source": [
    "#checking the function\n",
    "repo_url=get_repo_urls(doc)\n",
    "repo_url[:5]"
   ]
  },
  {
   "cell_type": "code",
   "execution_count": 17,
   "metadata": {},
   "outputs": [
    {
     "data": {
      "text/plain": [
       "24"
      ]
     },
     "execution_count": 17,
     "metadata": {},
     "output_type": "execute_result"
    }
   ],
   "source": [
    "len(repo_url)"
   ]
  },
  {
   "cell_type": "code",
   "execution_count": 18,
   "metadata": {},
   "outputs": [],
   "source": [
    "# Function to get repo_name\n",
    "def get_repo_name(doc):\n",
    "    repo_name_tags=doc.findAll('a',{'class':'css-truncate css-truncate-target'})\n",
    "    repo_name=[]\n",
    "    for tag in repo_name_tags:\n",
    "        repo_name.append(tag.text.strip())\n",
    "    return repo_name"
   ]
  },
  {
   "cell_type": "code",
   "execution_count": 19,
   "metadata": {},
   "outputs": [
    {
     "data": {
      "text/plain": [
       "['img2dataset', 'pytorch_scatter', 'opencheck-embed', 'nanodet', 'CenterNet']"
      ]
     },
     "execution_count": 19,
     "metadata": {},
     "output_type": "execute_result"
    }
   ],
   "source": [
    "#checking the function \n",
    "repo_names=get_repo_name(doc)\n",
    "repo_names[:5]"
   ]
  },
  {
   "cell_type": "code",
   "execution_count": 20,
   "metadata": {},
   "outputs": [
    {
     "data": {
      "text/plain": [
       "24"
      ]
     },
     "execution_count": 20,
     "metadata": {},
     "output_type": "execute_result"
    }
   ],
   "source": [
    "len(repo_names)"
   ]
  },
  {
   "cell_type": "markdown",
   "metadata": {},
   "source": [
    "### Create a main function to call these functions"
   ]
  },
  {
   "cell_type": "code",
   "execution_count": 21,
   "metadata": {},
   "outputs": [],
   "source": [
    "def scrape_trending():\n",
    "    trending_dict={\n",
    "        'name':get_names(doc),\n",
    "        'popular_repo_name':get_repo_name(doc),\n",
    "        'repo_url':get_repo_urls(doc),\n",
    "        'profile_url':get_profile_urls(doc)\n",
    "    }\n",
    "    return pd.DataFrame(trending_dict)"
   ]
  },
  {
   "cell_type": "code",
   "execution_count": 22,
   "metadata": {},
   "outputs": [
    {
     "data": {
      "text/html": [
       "<div>\n",
       "<style scoped>\n",
       "    .dataframe tbody tr th:only-of-type {\n",
       "        vertical-align: middle;\n",
       "    }\n",
       "\n",
       "    .dataframe tbody tr th {\n",
       "        vertical-align: top;\n",
       "    }\n",
       "\n",
       "    .dataframe thead th {\n",
       "        text-align: right;\n",
       "    }\n",
       "</style>\n",
       "<table border=\"1\" class=\"dataframe\">\n",
       "  <thead>\n",
       "    <tr style=\"text-align: right;\">\n",
       "      <th></th>\n",
       "      <th>name</th>\n",
       "      <th>popular_repo_name</th>\n",
       "      <th>repo_url</th>\n",
       "      <th>profile_url</th>\n",
       "    </tr>\n",
       "  </thead>\n",
       "  <tbody>\n",
       "    <tr>\n",
       "      <th>0</th>\n",
       "      <td>Romain Beaumont</td>\n",
       "      <td>img2dataset</td>\n",
       "      <td>https://github.com/rom1504/img2dataset</td>\n",
       "      <td>https://github.com/rom1504</td>\n",
       "    </tr>\n",
       "    <tr>\n",
       "      <th>1</th>\n",
       "      <td>Matthias Fey</td>\n",
       "      <td>pytorch_scatter</td>\n",
       "      <td>https://github.com/rusty1s/pytorch_scatter</td>\n",
       "      <td>https://github.com/rusty1s</td>\n",
       "    </tr>\n",
       "    <tr>\n",
       "      <th>2</th>\n",
       "      <td>Charles Tapley Hoyt</td>\n",
       "      <td>opencheck-embed</td>\n",
       "      <td>https://github.com/cthoyt/opencheck-embed</td>\n",
       "      <td>https://github.com/cthoyt</td>\n",
       "    </tr>\n",
       "    <tr>\n",
       "      <th>3</th>\n",
       "      <td>RangiLyu</td>\n",
       "      <td>nanodet</td>\n",
       "      <td>https://github.com/RangiLyu/nanodet</td>\n",
       "      <td>https://github.com/RangiLyu</td>\n",
       "    </tr>\n",
       "    <tr>\n",
       "      <th>4</th>\n",
       "      <td>Xingyi Zhou</td>\n",
       "      <td>CenterNet</td>\n",
       "      <td>https://github.com/xingyizhou/CenterNet</td>\n",
       "      <td>https://github.com/xingyizhou</td>\n",
       "    </tr>\n",
       "    <tr>\n",
       "      <th>5</th>\n",
       "      <td>Costa Huang</td>\n",
       "      <td>cleanrl</td>\n",
       "      <td>https://github.com/vwxyzjn/cleanrl</td>\n",
       "      <td>https://github.com/vwxyzjn</td>\n",
       "    </tr>\n",
       "    <tr>\n",
       "      <th>6</th>\n",
       "      <td>Kentaro Wada</td>\n",
       "      <td>labelme</td>\n",
       "      <td>https://github.com/wkentaro/labelme</td>\n",
       "      <td>https://github.com/wkentaro</td>\n",
       "    </tr>\n",
       "    <tr>\n",
       "      <th>7</th>\n",
       "      <td>Maarten Grootendorst</td>\n",
       "      <td>BERTopic</td>\n",
       "      <td>https://github.com/MaartenGr/BERTopic</td>\n",
       "      <td>https://github.com/MaartenGr</td>\n",
       "    </tr>\n",
       "    <tr>\n",
       "      <th>8</th>\n",
       "      <td>Cyrille Rossant</td>\n",
       "      <td>awesome-math</td>\n",
       "      <td>https://github.com/rossant/awesome-math</td>\n",
       "      <td>https://github.com/rossant</td>\n",
       "    </tr>\n",
       "    <tr>\n",
       "      <th>9</th>\n",
       "      <td>Wey Gu</td>\n",
       "      <td>nebula-dgl</td>\n",
       "      <td>https://github.com/wey-gu/nebula-dgl</td>\n",
       "      <td>https://github.com/wey-gu</td>\n",
       "    </tr>\n",
       "    <tr>\n",
       "      <th>10</th>\n",
       "      <td>Bane Sullivan</td>\n",
       "      <td>banesullivan</td>\n",
       "      <td>https://github.com/banesullivan/banesullivan</td>\n",
       "      <td>https://github.com/banesullivan</td>\n",
       "    </tr>\n",
       "    <tr>\n",
       "      <th>11</th>\n",
       "      <td>Ross Wightman</td>\n",
       "      <td>pytorch-image-models</td>\n",
       "      <td>https://github.com/rwightman/pytorch-image-models</td>\n",
       "      <td>https://github.com/rwightman</td>\n",
       "    </tr>\n",
       "    <tr>\n",
       "      <th>12</th>\n",
       "      <td>Guido van Rossum</td>\n",
       "      <td>old-demos</td>\n",
       "      <td>https://github.com/gvanrossum/old-demos</td>\n",
       "      <td>https://github.com/gvanrossum</td>\n",
       "    </tr>\n",
       "    <tr>\n",
       "      <th>13</th>\n",
       "      <td>Benjamin Peterson</td>\n",
       "      <td>six</td>\n",
       "      <td>https://github.com/benjaminp/six</td>\n",
       "      <td>https://github.com/benjaminp</td>\n",
       "    </tr>\n",
       "    <tr>\n",
       "      <th>14</th>\n",
       "      <td>Xintao</td>\n",
       "      <td>Real-ESRGAN</td>\n",
       "      <td>https://github.com/xinntao/Real-ESRGAN</td>\n",
       "      <td>https://github.com/xinntao</td>\n",
       "    </tr>\n",
       "    <tr>\n",
       "      <th>15</th>\n",
       "      <td>Michael Dawson-Haggerty</td>\n",
       "      <td>trimesh</td>\n",
       "      <td>https://github.com/mikedh/trimesh</td>\n",
       "      <td>https://github.com/mikedh</td>\n",
       "    </tr>\n",
       "    <tr>\n",
       "      <th>16</th>\n",
       "      <td>Ben Frederickson</td>\n",
       "      <td>implicit</td>\n",
       "      <td>https://github.com/benfred/implicit</td>\n",
       "      <td>https://github.com/benfred</td>\n",
       "    </tr>\n",
       "    <tr>\n",
       "      <th>17</th>\n",
       "      <td>Andreas Klöckner</td>\n",
       "      <td>pudb</td>\n",
       "      <td>https://github.com/inducer/pudb</td>\n",
       "      <td>https://github.com/inducer</td>\n",
       "    </tr>\n",
       "    <tr>\n",
       "      <th>18</th>\n",
       "      <td>Florian Roth</td>\n",
       "      <td>Loki</td>\n",
       "      <td>https://github.com/Neo23x0/Loki</td>\n",
       "      <td>https://github.com/Neo23x0</td>\n",
       "    </tr>\n",
       "    <tr>\n",
       "      <th>19</th>\n",
       "      <td>Łukasz Langa</td>\n",
       "      <td>bitrot</td>\n",
       "      <td>https://github.com/ambv/bitrot</td>\n",
       "      <td>https://github.com/ambv</td>\n",
       "    </tr>\n",
       "    <tr>\n",
       "      <th>20</th>\n",
       "      <td>Erik Bernhardsson</td>\n",
       "      <td>ann-benchmarks</td>\n",
       "      <td>https://github.com/erikbern/ann-benchmarks</td>\n",
       "      <td>https://github.com/erikbern</td>\n",
       "    </tr>\n",
       "    <tr>\n",
       "      <th>21</th>\n",
       "      <td>Sylvain Gugger</td>\n",
       "      <td>torchdynamo-tests</td>\n",
       "      <td>https://github.com/sgugger/torchdynamo-tests</td>\n",
       "      <td>https://github.com/sgugger</td>\n",
       "    </tr>\n",
       "    <tr>\n",
       "      <th>22</th>\n",
       "      <td>Kyle Altendorf</td>\n",
       "      <td>pyqt-tools</td>\n",
       "      <td>https://github.com/altendky/pyqt-tools</td>\n",
       "      <td>https://github.com/altendky</td>\n",
       "    </tr>\n",
       "    <tr>\n",
       "      <th>23</th>\n",
       "      <td>Thomas Kluyver</td>\n",
       "      <td>pyxdg</td>\n",
       "      <td>https://github.com/takluyver/pyxdg</td>\n",
       "      <td>https://github.com/takluyver</td>\n",
       "    </tr>\n",
       "  </tbody>\n",
       "</table>\n",
       "</div>"
      ],
      "text/plain": [
       "                       name     popular_repo_name  \\\n",
       "0           Romain Beaumont           img2dataset   \n",
       "1              Matthias Fey       pytorch_scatter   \n",
       "2       Charles Tapley Hoyt       opencheck-embed   \n",
       "3                  RangiLyu               nanodet   \n",
       "4               Xingyi Zhou             CenterNet   \n",
       "5               Costa Huang               cleanrl   \n",
       "6              Kentaro Wada               labelme   \n",
       "7      Maarten Grootendorst              BERTopic   \n",
       "8           Cyrille Rossant          awesome-math   \n",
       "9                    Wey Gu            nebula-dgl   \n",
       "10            Bane Sullivan          banesullivan   \n",
       "11            Ross Wightman  pytorch-image-models   \n",
       "12         Guido van Rossum             old-demos   \n",
       "13        Benjamin Peterson                   six   \n",
       "14                   Xintao           Real-ESRGAN   \n",
       "15  Michael Dawson-Haggerty               trimesh   \n",
       "16         Ben Frederickson              implicit   \n",
       "17         Andreas Klöckner                  pudb   \n",
       "18             Florian Roth                  Loki   \n",
       "19             Łukasz Langa                bitrot   \n",
       "20        Erik Bernhardsson        ann-benchmarks   \n",
       "21           Sylvain Gugger     torchdynamo-tests   \n",
       "22           Kyle Altendorf            pyqt-tools   \n",
       "23           Thomas Kluyver                 pyxdg   \n",
       "\n",
       "                                             repo_url  \\\n",
       "0              https://github.com/rom1504/img2dataset   \n",
       "1          https://github.com/rusty1s/pytorch_scatter   \n",
       "2           https://github.com/cthoyt/opencheck-embed   \n",
       "3                 https://github.com/RangiLyu/nanodet   \n",
       "4             https://github.com/xingyizhou/CenterNet   \n",
       "5                  https://github.com/vwxyzjn/cleanrl   \n",
       "6                 https://github.com/wkentaro/labelme   \n",
       "7               https://github.com/MaartenGr/BERTopic   \n",
       "8             https://github.com/rossant/awesome-math   \n",
       "9                https://github.com/wey-gu/nebula-dgl   \n",
       "10       https://github.com/banesullivan/banesullivan   \n",
       "11  https://github.com/rwightman/pytorch-image-models   \n",
       "12            https://github.com/gvanrossum/old-demos   \n",
       "13                   https://github.com/benjaminp/six   \n",
       "14             https://github.com/xinntao/Real-ESRGAN   \n",
       "15                  https://github.com/mikedh/trimesh   \n",
       "16                https://github.com/benfred/implicit   \n",
       "17                    https://github.com/inducer/pudb   \n",
       "18                    https://github.com/Neo23x0/Loki   \n",
       "19                     https://github.com/ambv/bitrot   \n",
       "20         https://github.com/erikbern/ann-benchmarks   \n",
       "21       https://github.com/sgugger/torchdynamo-tests   \n",
       "22             https://github.com/altendky/pyqt-tools   \n",
       "23                 https://github.com/takluyver/pyxdg   \n",
       "\n",
       "                        profile_url  \n",
       "0        https://github.com/rom1504  \n",
       "1        https://github.com/rusty1s  \n",
       "2         https://github.com/cthoyt  \n",
       "3       https://github.com/RangiLyu  \n",
       "4     https://github.com/xingyizhou  \n",
       "5        https://github.com/vwxyzjn  \n",
       "6       https://github.com/wkentaro  \n",
       "7      https://github.com/MaartenGr  \n",
       "8        https://github.com/rossant  \n",
       "9         https://github.com/wey-gu  \n",
       "10  https://github.com/banesullivan  \n",
       "11     https://github.com/rwightman  \n",
       "12    https://github.com/gvanrossum  \n",
       "13     https://github.com/benjaminp  \n",
       "14       https://github.com/xinntao  \n",
       "15        https://github.com/mikedh  \n",
       "16       https://github.com/benfred  \n",
       "17       https://github.com/inducer  \n",
       "18       https://github.com/Neo23x0  \n",
       "19          https://github.com/ambv  \n",
       "20      https://github.com/erikbern  \n",
       "21       https://github.com/sgugger  \n",
       "22      https://github.com/altendky  \n",
       "23     https://github.com/takluyver  "
      ]
     },
     "execution_count": 22,
     "metadata": {},
     "output_type": "execute_result"
    }
   ],
   "source": [
    "#calling the main function\n",
    "trending_df=scrape_trending()\n",
    "\n",
    "#The trending page details are stored in a Dataframe (trending_df)\n",
    "trending_df"
   ]
  },
  {
   "cell_type": "markdown",
   "metadata": {},
   "source": [
    "## Navigate to each profile page and get profile details\n",
    "Profile details:\n",
    "<ul><li> Bio</li>\n",
    "<li> Company</li>\n",
    "<li>Location</li>\n",
    "<li>Contributions in the last year</li>\n"
   ]
  },
  {
   "cell_type": "code",
   "execution_count": 23,
   "metadata": {},
   "outputs": [],
   "source": [
    "def get_profile_page(profile_url):\n",
    "    #download the page\n",
    "    response=requests.get(profile_url)\n",
    "     #check for successful response\n",
    "    if response.status_code != 200:\n",
    "        raise Exception ('Failed to load page {}.format (profile_url)')\n",
    "    #parse using BeautifulSoup\n",
    "    profile_doc=BeautifulSoup(response.text,'html.parser')\n",
    "    return profile_doc\n",
    "    "
   ]
  },
  {
   "cell_type": "code",
   "execution_count": 24,
   "metadata": {},
   "outputs": [],
   "source": [
    "#checking the function\n",
    "profile_doc1=get_profile_page('https://github.com/rom1504')"
   ]
  },
  {
   "cell_type": "markdown",
   "metadata": {},
   "source": [
    "## Get Profile information"
   ]
  },
  {
   "cell_type": "code",
   "execution_count": 25,
   "metadata": {},
   "outputs": [],
   "source": [
    "#get bio info\n",
    "def get_bio(profile_doc):\n",
    "    bio_tag=profile_doc.find('div',{'class':'p-note user-profile-bio mb-3 js-user-profile-bio f4'})\n",
    "    return bio_tag.text.strip()"
   ]
  },
  {
   "cell_type": "code",
   "execution_count": 26,
   "metadata": {},
   "outputs": [
    {
     "data": {
      "text/plain": [
       "'Interested in machine learning (computer vision, natural language processing, deep learning), node.js (network, bots, web), and programming in general'"
      ]
     },
     "execution_count": 26,
     "metadata": {},
     "output_type": "execute_result"
    }
   ],
   "source": [
    "#checking the function\n",
    "bio_desc=get_bio(profile_doc1)\n",
    "bio_desc"
   ]
  },
  {
   "cell_type": "code",
   "execution_count": 27,
   "metadata": {},
   "outputs": [],
   "source": [
    "# get company details\n",
    "def get_company(profile_doc):\n",
    "    comp_tag=profile_doc.find('a',{'class':'user-mention notranslate'})\n",
    "    if(comp_tag==None):\n",
    "        return(\"-\")\n",
    "    else:\n",
    "        return comp_tag.text.strip()\n"
   ]
  },
  {
   "cell_type": "code",
   "execution_count": 28,
   "metadata": {},
   "outputs": [
    {
     "data": {
      "text/plain": [
       "'@google'"
      ]
     },
     "execution_count": 28,
     "metadata": {},
     "output_type": "execute_result"
    }
   ],
   "source": [
    "#checking the function\n",
    "comp=get_company(profile_doc1)\n",
    "comp"
   ]
  },
  {
   "cell_type": "code",
   "execution_count": 29,
   "metadata": {},
   "outputs": [],
   "source": [
    "#get location details\n",
    "\n",
    "def get_location(profile_doc):\n",
    "   loc_tag=profile_doc.find('span',{'class':'p-label'})\n",
    "   if(loc_tag==None):\n",
    "      return(\"-\")\n",
    "   else:\n",
    "      return(loc_tag.text.strip())\n",
    "      "
   ]
  },
  {
   "cell_type": "code",
   "execution_count": 30,
   "metadata": {},
   "outputs": [
    {
     "data": {
      "text/plain": [
       "'Paris'"
      ]
     },
     "execution_count": 30,
     "metadata": {},
     "output_type": "execute_result"
    }
   ],
   "source": [
    "#check the function\n",
    "loc=get_location(profile_doc1)\n",
    "loc"
   ]
  },
  {
   "cell_type": "code",
   "execution_count": 31,
   "metadata": {},
   "outputs": [],
   "source": [
    "import re\n",
    "# get number of contributions\n",
    "def get_contri(profile_doc):\n",
    "    contri_tags=profile_doc.find('h2',{'class':'f4 text-normal mb-2'})\n",
    "    contribution=re.sub(\"[A-Za-z\\n\\D]\",'',contri_tags.text.strip())\n",
    "    return contribution"
   ]
  },
  {
   "cell_type": "code",
   "execution_count": 32,
   "metadata": {},
   "outputs": [
    {
     "data": {
      "text/plain": [
       "'1848'"
      ]
     },
     "execution_count": 32,
     "metadata": {},
     "output_type": "execute_result"
    }
   ],
   "source": [
    "#check the function\n",
    "contri=get_contri(profile_doc1)\n",
    "contri"
   ]
  },
  {
   "cell_type": "code",
   "execution_count": 33,
   "metadata": {},
   "outputs": [],
   "source": [
    "#creating an empty dictionary with topics as key\n",
    "profiles_dict = { 'bio': [], 'company': [], 'location': [],'contribution': []}\n",
    "\n",
    "# main function to get all the profile details and store in the dictionary.\n",
    "def get_dict(profile_doc): \n",
    "    profiles_dict['bio'].append(get_bio(profile_doc)),\n",
    "    profiles_dict['company'].append(get_company(profile_doc)),\n",
    "    profiles_dict['location'].append(get_location(profile_doc)),\n",
    "    profiles_dict['contribution'].append(get_contri(profile_doc))\n",
    "    return pd.DataFrame(profiles_dict)"
   ]
  },
  {
   "cell_type": "code",
   "execution_count": 34,
   "metadata": {},
   "outputs": [],
   "source": [
    "def create_df(profile_url):\n",
    "    profile_df= get_dict(get_profile_page(profile_url))\n",
    "    return profile_df"
   ]
  },
  {
   "cell_type": "markdown",
   "metadata": {},
   "source": [
    "#### Main function to invoke other functions"
   ]
  },
  {
   "cell_type": "code",
   "execution_count": 35,
   "metadata": {},
   "outputs": [],
   "source": [
    "def scrape_profile():\n",
    "    print('Scraping list of profiles')\n",
    "    trending_df=scrape_trending()\n",
    "\n",
    "    # to take profile_urls row by row, from trending_df dataframe \n",
    "    for index, row in trending_df.iterrows():\n",
    "        print('Scraping profile for \"{}\"'.format(row['name']))\n",
    "        profile_df=create_df(row['profile_url'])\n",
    "    return profile_df"
   ]
  },
  {
   "cell_type": "code",
   "execution_count": 36,
   "metadata": {},
   "outputs": [
    {
     "name": "stdout",
     "output_type": "stream",
     "text": [
      "Scraping list of profiles\n",
      "Scraping profile for \"Romain Beaumont\"\n",
      "Scraping profile for \"Matthias Fey\"\n",
      "Scraping profile for \"Charles Tapley Hoyt\"\n",
      "Scraping profile for \"RangiLyu\"\n",
      "Scraping profile for \"Xingyi Zhou\"\n",
      "Scraping profile for \"Costa Huang\"\n",
      "Scraping profile for \"Kentaro Wada\"\n",
      "Scraping profile for \"Maarten Grootendorst\"\n",
      "Scraping profile for \"Cyrille Rossant\"\n",
      "Scraping profile for \"Wey Gu\"\n",
      "Scraping profile for \"Bane Sullivan\"\n",
      "Scraping profile for \"Ross Wightman\"\n",
      "Scraping profile for \"Guido van Rossum\"\n",
      "Scraping profile for \"Benjamin Peterson\"\n",
      "Scraping profile for \"Xintao\"\n",
      "Scraping profile for \"Michael Dawson-Haggerty\"\n",
      "Scraping profile for \"Ben Frederickson\"\n",
      "Scraping profile for \"Andreas Klöckner\"\n",
      "Scraping profile for \"Florian Roth\"\n",
      "Scraping profile for \"Łukasz Langa\"\n",
      "Scraping profile for \"Erik Bernhardsson\"\n",
      "Scraping profile for \"Sylvain Gugger\"\n",
      "Scraping profile for \"Kyle Altendorf\"\n",
      "Scraping profile for \"Thomas Kluyver\"\n",
      "                                                  bio          company  \\\n",
      "0   Interested in machine learning (computer visio...          @google   \n",
      "1   Creator of PyG (PyTorch Geometric) - Founding ...                -   \n",
      "2   Bio/cheminformatician, open scientist, maintai...           @pybel   \n",
      "3                     Deep Learning & Computer Vision                -   \n",
      "4                      CS Ph.D. student at UT Austin.                -   \n",
      "5   Computer Science Ph.D student at Drexel Univer...                -   \n",
      "6   Passionate about automation. Working on comput...           @mujin   \n",
      "7                       Data Scientist | Psychologist                -   \n",
      "8       Neuroscience researcher and software engineer   @int-brain-lab   \n",
      "9                      Developer Advocate @vesoft-inc      @vesoft-inc   \n",
      "10  visualization geek & open source R&D engineer....         @pyvista   \n",
      "11  Always learning, constantly curious. Building ...                -   \n",
      "12                                                        @markshannon   \n",
      "13                                                                   -   \n",
      "14  Researcher at Tencent ARC Lab, (Applied Resear...                -   \n",
      "15                                                                   -   \n",
      "16  Working on open source data science tools @NVIDIA          @NVIDIA   \n",
      "17                                                     @matthiasdiener   \n",
      "18  #DFIR #Python #YARA #Golang #SIEM #SOC #Sigma ...  @NextronSystems   \n",
      "19  Python 3.8 & 3.9 Release Manager. llanga on Tw...             @psf   \n",
      "20  Working on some weird ideas for data infra at ...      @modal-labs   \n",
      "21                   Research Engineer at HuggingFace                -   \n",
      "22                                                                   -   \n",
      "23                                                                   -   \n",
      "\n",
      "                  location contribution  \n",
      "0                    Paris         1848  \n",
      "1        Dortmund, Germany         4497  \n",
      "2            Bonn, Germany         5320  \n",
      "3                 Shanghai          891  \n",
      "4                   Austin          311  \n",
      "5         Philadelphia, PA         1122  \n",
      "6             Tokyo, Japan         1523  \n",
      "7     Netherlands, Tilburg           66  \n",
      "8                    Paris          922  \n",
      "9                 Shanghai         1608  \n",
      "10                Colorado         3607  \n",
      "11           Vancouver, BC          929  \n",
      "12  San Francisco Bay Area          829  \n",
      "13                       -          215  \n",
      "14         Shenzhen, China          357  \n",
      "15              Pittsburgh         1330  \n",
      "16   Vancouver, BC, Canada         1018  \n",
      "17           Champaign, IL         2754  \n",
      "18                       -         3068  \n",
      "19          Poznań, Poland          394  \n",
      "20           New York City         4383  \n",
      "21                       -         3847  \n",
      "22                       -         3599  \n",
      "23                       -          878  \n"
     ]
    }
   ],
   "source": [
    "profile_df=scrape_profile()\n",
    "print(profile_df)\n"
   ]
  },
  {
   "cell_type": "code",
   "execution_count": 37,
   "metadata": {},
   "outputs": [
    {
     "data": {
      "text/html": [
       "<div>\n",
       "<style scoped>\n",
       "    .dataframe tbody tr th:only-of-type {\n",
       "        vertical-align: middle;\n",
       "    }\n",
       "\n",
       "    .dataframe tbody tr th {\n",
       "        vertical-align: top;\n",
       "    }\n",
       "\n",
       "    .dataframe thead th {\n",
       "        text-align: right;\n",
       "    }\n",
       "</style>\n",
       "<table border=\"1\" class=\"dataframe\">\n",
       "  <thead>\n",
       "    <tr style=\"text-align: right;\">\n",
       "      <th></th>\n",
       "      <th>bio</th>\n",
       "      <th>company</th>\n",
       "      <th>location</th>\n",
       "      <th>contribution</th>\n",
       "    </tr>\n",
       "  </thead>\n",
       "  <tbody>\n",
       "    <tr>\n",
       "      <th>0</th>\n",
       "      <td>Interested in machine learning (computer visio...</td>\n",
       "      <td>@google</td>\n",
       "      <td>Paris</td>\n",
       "      <td>1848</td>\n",
       "    </tr>\n",
       "    <tr>\n",
       "      <th>1</th>\n",
       "      <td>Creator of PyG (PyTorch Geometric) - Founding ...</td>\n",
       "      <td>-</td>\n",
       "      <td>Dortmund, Germany</td>\n",
       "      <td>4497</td>\n",
       "    </tr>\n",
       "    <tr>\n",
       "      <th>2</th>\n",
       "      <td>Bio/cheminformatician, open scientist, maintai...</td>\n",
       "      <td>@pybel</td>\n",
       "      <td>Bonn, Germany</td>\n",
       "      <td>5320</td>\n",
       "    </tr>\n",
       "    <tr>\n",
       "      <th>3</th>\n",
       "      <td>Deep Learning &amp; Computer Vision</td>\n",
       "      <td>-</td>\n",
       "      <td>Shanghai</td>\n",
       "      <td>891</td>\n",
       "    </tr>\n",
       "    <tr>\n",
       "      <th>4</th>\n",
       "      <td>CS Ph.D. student at UT Austin.</td>\n",
       "      <td>-</td>\n",
       "      <td>Austin</td>\n",
       "      <td>311</td>\n",
       "    </tr>\n",
       "    <tr>\n",
       "      <th>5</th>\n",
       "      <td>Computer Science Ph.D student at Drexel Univer...</td>\n",
       "      <td>-</td>\n",
       "      <td>Philadelphia, PA</td>\n",
       "      <td>1122</td>\n",
       "    </tr>\n",
       "    <tr>\n",
       "      <th>6</th>\n",
       "      <td>Passionate about automation. Working on comput...</td>\n",
       "      <td>@mujin</td>\n",
       "      <td>Tokyo, Japan</td>\n",
       "      <td>1523</td>\n",
       "    </tr>\n",
       "    <tr>\n",
       "      <th>7</th>\n",
       "      <td>Data Scientist | Psychologist</td>\n",
       "      <td>-</td>\n",
       "      <td>Netherlands, Tilburg</td>\n",
       "      <td>66</td>\n",
       "    </tr>\n",
       "    <tr>\n",
       "      <th>8</th>\n",
       "      <td>Neuroscience researcher and software engineer</td>\n",
       "      <td>@int-brain-lab</td>\n",
       "      <td>Paris</td>\n",
       "      <td>922</td>\n",
       "    </tr>\n",
       "    <tr>\n",
       "      <th>9</th>\n",
       "      <td>Developer Advocate @vesoft-inc</td>\n",
       "      <td>@vesoft-inc</td>\n",
       "      <td>Shanghai</td>\n",
       "      <td>1608</td>\n",
       "    </tr>\n",
       "    <tr>\n",
       "      <th>10</th>\n",
       "      <td>visualization geek &amp; open source R&amp;D engineer....</td>\n",
       "      <td>@pyvista</td>\n",
       "      <td>Colorado</td>\n",
       "      <td>3607</td>\n",
       "    </tr>\n",
       "    <tr>\n",
       "      <th>11</th>\n",
       "      <td>Always learning, constantly curious. Building ...</td>\n",
       "      <td>-</td>\n",
       "      <td>Vancouver, BC</td>\n",
       "      <td>929</td>\n",
       "    </tr>\n",
       "    <tr>\n",
       "      <th>12</th>\n",
       "      <td></td>\n",
       "      <td>@markshannon</td>\n",
       "      <td>San Francisco Bay Area</td>\n",
       "      <td>829</td>\n",
       "    </tr>\n",
       "    <tr>\n",
       "      <th>13</th>\n",
       "      <td></td>\n",
       "      <td>-</td>\n",
       "      <td>-</td>\n",
       "      <td>215</td>\n",
       "    </tr>\n",
       "    <tr>\n",
       "      <th>14</th>\n",
       "      <td>Researcher at Tencent ARC Lab, (Applied Resear...</td>\n",
       "      <td>-</td>\n",
       "      <td>Shenzhen, China</td>\n",
       "      <td>357</td>\n",
       "    </tr>\n",
       "    <tr>\n",
       "      <th>15</th>\n",
       "      <td></td>\n",
       "      <td>-</td>\n",
       "      <td>Pittsburgh</td>\n",
       "      <td>1330</td>\n",
       "    </tr>\n",
       "    <tr>\n",
       "      <th>16</th>\n",
       "      <td>Working on open source data science tools @NVIDIA</td>\n",
       "      <td>@NVIDIA</td>\n",
       "      <td>Vancouver, BC, Canada</td>\n",
       "      <td>1018</td>\n",
       "    </tr>\n",
       "    <tr>\n",
       "      <th>17</th>\n",
       "      <td></td>\n",
       "      <td>@matthiasdiener</td>\n",
       "      <td>Champaign, IL</td>\n",
       "      <td>2754</td>\n",
       "    </tr>\n",
       "    <tr>\n",
       "      <th>18</th>\n",
       "      <td>#DFIR #Python #YARA #Golang #SIEM #SOC #Sigma ...</td>\n",
       "      <td>@NextronSystems</td>\n",
       "      <td>-</td>\n",
       "      <td>3068</td>\n",
       "    </tr>\n",
       "    <tr>\n",
       "      <th>19</th>\n",
       "      <td>Python 3.8 &amp; 3.9 Release Manager. llanga on Tw...</td>\n",
       "      <td>@psf</td>\n",
       "      <td>Poznań, Poland</td>\n",
       "      <td>394</td>\n",
       "    </tr>\n",
       "    <tr>\n",
       "      <th>20</th>\n",
       "      <td>Working on some weird ideas for data infra at ...</td>\n",
       "      <td>@modal-labs</td>\n",
       "      <td>New York City</td>\n",
       "      <td>4383</td>\n",
       "    </tr>\n",
       "    <tr>\n",
       "      <th>21</th>\n",
       "      <td>Research Engineer at HuggingFace</td>\n",
       "      <td>-</td>\n",
       "      <td>-</td>\n",
       "      <td>3847</td>\n",
       "    </tr>\n",
       "    <tr>\n",
       "      <th>22</th>\n",
       "      <td></td>\n",
       "      <td>-</td>\n",
       "      <td>-</td>\n",
       "      <td>3599</td>\n",
       "    </tr>\n",
       "    <tr>\n",
       "      <th>23</th>\n",
       "      <td></td>\n",
       "      <td>-</td>\n",
       "      <td>-</td>\n",
       "      <td>878</td>\n",
       "    </tr>\n",
       "  </tbody>\n",
       "</table>\n",
       "</div>"
      ],
      "text/plain": [
       "                                                  bio          company  \\\n",
       "0   Interested in machine learning (computer visio...          @google   \n",
       "1   Creator of PyG (PyTorch Geometric) - Founding ...                -   \n",
       "2   Bio/cheminformatician, open scientist, maintai...           @pybel   \n",
       "3                     Deep Learning & Computer Vision                -   \n",
       "4                      CS Ph.D. student at UT Austin.                -   \n",
       "5   Computer Science Ph.D student at Drexel Univer...                -   \n",
       "6   Passionate about automation. Working on comput...           @mujin   \n",
       "7                       Data Scientist | Psychologist                -   \n",
       "8       Neuroscience researcher and software engineer   @int-brain-lab   \n",
       "9                      Developer Advocate @vesoft-inc      @vesoft-inc   \n",
       "10  visualization geek & open source R&D engineer....         @pyvista   \n",
       "11  Always learning, constantly curious. Building ...                -   \n",
       "12                                                        @markshannon   \n",
       "13                                                                   -   \n",
       "14  Researcher at Tencent ARC Lab, (Applied Resear...                -   \n",
       "15                                                                   -   \n",
       "16  Working on open source data science tools @NVIDIA          @NVIDIA   \n",
       "17                                                     @matthiasdiener   \n",
       "18  #DFIR #Python #YARA #Golang #SIEM #SOC #Sigma ...  @NextronSystems   \n",
       "19  Python 3.8 & 3.9 Release Manager. llanga on Tw...             @psf   \n",
       "20  Working on some weird ideas for data infra at ...      @modal-labs   \n",
       "21                   Research Engineer at HuggingFace                -   \n",
       "22                                                                   -   \n",
       "23                                                                   -   \n",
       "\n",
       "                  location contribution  \n",
       "0                    Paris         1848  \n",
       "1        Dortmund, Germany         4497  \n",
       "2            Bonn, Germany         5320  \n",
       "3                 Shanghai          891  \n",
       "4                   Austin          311  \n",
       "5         Philadelphia, PA         1122  \n",
       "6             Tokyo, Japan         1523  \n",
       "7     Netherlands, Tilburg           66  \n",
       "8                    Paris          922  \n",
       "9                 Shanghai         1608  \n",
       "10                Colorado         3607  \n",
       "11           Vancouver, BC          929  \n",
       "12  San Francisco Bay Area          829  \n",
       "13                       -          215  \n",
       "14         Shenzhen, China          357  \n",
       "15              Pittsburgh         1330  \n",
       "16   Vancouver, BC, Canada         1018  \n",
       "17           Champaign, IL         2754  \n",
       "18                       -         3068  \n",
       "19          Poznań, Poland          394  \n",
       "20           New York City         4383  \n",
       "21                       -         3847  \n",
       "22                       -         3599  \n",
       "23                       -          878  "
      ]
     },
     "execution_count": 37,
     "metadata": {},
     "output_type": "execute_result"
    }
   ],
   "source": [
    "#profile_df has all the scraped values of profile\n",
    "profile_df"
   ]
  },
  {
   "cell_type": "markdown",
   "metadata": {},
   "source": [
    "#### Combining trending_df and profile_df to a single dataframe."
   ]
  },
  {
   "cell_type": "code",
   "execution_count": 38,
   "metadata": {},
   "outputs": [
    {
     "data": {
      "text/html": [
       "<div>\n",
       "<style scoped>\n",
       "    .dataframe tbody tr th:only-of-type {\n",
       "        vertical-align: middle;\n",
       "    }\n",
       "\n",
       "    .dataframe tbody tr th {\n",
       "        vertical-align: top;\n",
       "    }\n",
       "\n",
       "    .dataframe thead th {\n",
       "        text-align: right;\n",
       "    }\n",
       "</style>\n",
       "<table border=\"1\" class=\"dataframe\">\n",
       "  <thead>\n",
       "    <tr style=\"text-align: right;\">\n",
       "      <th></th>\n",
       "      <th>name</th>\n",
       "      <th>popular_repo_name</th>\n",
       "      <th>repo_url</th>\n",
       "      <th>profile_url</th>\n",
       "      <th>bio</th>\n",
       "      <th>company</th>\n",
       "      <th>location</th>\n",
       "      <th>contribution</th>\n",
       "    </tr>\n",
       "  </thead>\n",
       "  <tbody>\n",
       "    <tr>\n",
       "      <th>0</th>\n",
       "      <td>Romain Beaumont</td>\n",
       "      <td>img2dataset</td>\n",
       "      <td>https://github.com/rom1504/img2dataset</td>\n",
       "      <td>https://github.com/rom1504</td>\n",
       "      <td>Interested in machine learning (computer visio...</td>\n",
       "      <td>@google</td>\n",
       "      <td>Paris</td>\n",
       "      <td>1848</td>\n",
       "    </tr>\n",
       "    <tr>\n",
       "      <th>1</th>\n",
       "      <td>Matthias Fey</td>\n",
       "      <td>pytorch_scatter</td>\n",
       "      <td>https://github.com/rusty1s/pytorch_scatter</td>\n",
       "      <td>https://github.com/rusty1s</td>\n",
       "      <td>Creator of PyG (PyTorch Geometric) - Founding ...</td>\n",
       "      <td>-</td>\n",
       "      <td>Dortmund, Germany</td>\n",
       "      <td>4497</td>\n",
       "    </tr>\n",
       "    <tr>\n",
       "      <th>2</th>\n",
       "      <td>Charles Tapley Hoyt</td>\n",
       "      <td>opencheck-embed</td>\n",
       "      <td>https://github.com/cthoyt/opencheck-embed</td>\n",
       "      <td>https://github.com/cthoyt</td>\n",
       "      <td>Bio/cheminformatician, open scientist, maintai...</td>\n",
       "      <td>@pybel</td>\n",
       "      <td>Bonn, Germany</td>\n",
       "      <td>5320</td>\n",
       "    </tr>\n",
       "    <tr>\n",
       "      <th>3</th>\n",
       "      <td>RangiLyu</td>\n",
       "      <td>nanodet</td>\n",
       "      <td>https://github.com/RangiLyu/nanodet</td>\n",
       "      <td>https://github.com/RangiLyu</td>\n",
       "      <td>Deep Learning &amp; Computer Vision</td>\n",
       "      <td>-</td>\n",
       "      <td>Shanghai</td>\n",
       "      <td>891</td>\n",
       "    </tr>\n",
       "    <tr>\n",
       "      <th>4</th>\n",
       "      <td>Xingyi Zhou</td>\n",
       "      <td>CenterNet</td>\n",
       "      <td>https://github.com/xingyizhou/CenterNet</td>\n",
       "      <td>https://github.com/xingyizhou</td>\n",
       "      <td>CS Ph.D. student at UT Austin.</td>\n",
       "      <td>-</td>\n",
       "      <td>Austin</td>\n",
       "      <td>311</td>\n",
       "    </tr>\n",
       "    <tr>\n",
       "      <th>5</th>\n",
       "      <td>Costa Huang</td>\n",
       "      <td>cleanrl</td>\n",
       "      <td>https://github.com/vwxyzjn/cleanrl</td>\n",
       "      <td>https://github.com/vwxyzjn</td>\n",
       "      <td>Computer Science Ph.D student at Drexel Univer...</td>\n",
       "      <td>-</td>\n",
       "      <td>Philadelphia, PA</td>\n",
       "      <td>1122</td>\n",
       "    </tr>\n",
       "    <tr>\n",
       "      <th>6</th>\n",
       "      <td>Kentaro Wada</td>\n",
       "      <td>labelme</td>\n",
       "      <td>https://github.com/wkentaro/labelme</td>\n",
       "      <td>https://github.com/wkentaro</td>\n",
       "      <td>Passionate about automation. Working on comput...</td>\n",
       "      <td>@mujin</td>\n",
       "      <td>Tokyo, Japan</td>\n",
       "      <td>1523</td>\n",
       "    </tr>\n",
       "    <tr>\n",
       "      <th>7</th>\n",
       "      <td>Maarten Grootendorst</td>\n",
       "      <td>BERTopic</td>\n",
       "      <td>https://github.com/MaartenGr/BERTopic</td>\n",
       "      <td>https://github.com/MaartenGr</td>\n",
       "      <td>Data Scientist | Psychologist</td>\n",
       "      <td>-</td>\n",
       "      <td>Netherlands, Tilburg</td>\n",
       "      <td>66</td>\n",
       "    </tr>\n",
       "    <tr>\n",
       "      <th>8</th>\n",
       "      <td>Cyrille Rossant</td>\n",
       "      <td>awesome-math</td>\n",
       "      <td>https://github.com/rossant/awesome-math</td>\n",
       "      <td>https://github.com/rossant</td>\n",
       "      <td>Neuroscience researcher and software engineer</td>\n",
       "      <td>@int-brain-lab</td>\n",
       "      <td>Paris</td>\n",
       "      <td>922</td>\n",
       "    </tr>\n",
       "    <tr>\n",
       "      <th>9</th>\n",
       "      <td>Wey Gu</td>\n",
       "      <td>nebula-dgl</td>\n",
       "      <td>https://github.com/wey-gu/nebula-dgl</td>\n",
       "      <td>https://github.com/wey-gu</td>\n",
       "      <td>Developer Advocate @vesoft-inc</td>\n",
       "      <td>@vesoft-inc</td>\n",
       "      <td>Shanghai</td>\n",
       "      <td>1608</td>\n",
       "    </tr>\n",
       "    <tr>\n",
       "      <th>10</th>\n",
       "      <td>Bane Sullivan</td>\n",
       "      <td>banesullivan</td>\n",
       "      <td>https://github.com/banesullivan/banesullivan</td>\n",
       "      <td>https://github.com/banesullivan</td>\n",
       "      <td>visualization geek &amp; open source R&amp;D engineer....</td>\n",
       "      <td>@pyvista</td>\n",
       "      <td>Colorado</td>\n",
       "      <td>3607</td>\n",
       "    </tr>\n",
       "    <tr>\n",
       "      <th>11</th>\n",
       "      <td>Ross Wightman</td>\n",
       "      <td>pytorch-image-models</td>\n",
       "      <td>https://github.com/rwightman/pytorch-image-models</td>\n",
       "      <td>https://github.com/rwightman</td>\n",
       "      <td>Always learning, constantly curious. Building ...</td>\n",
       "      <td>-</td>\n",
       "      <td>Vancouver, BC</td>\n",
       "      <td>929</td>\n",
       "    </tr>\n",
       "    <tr>\n",
       "      <th>12</th>\n",
       "      <td>Guido van Rossum</td>\n",
       "      <td>old-demos</td>\n",
       "      <td>https://github.com/gvanrossum/old-demos</td>\n",
       "      <td>https://github.com/gvanrossum</td>\n",
       "      <td></td>\n",
       "      <td>@markshannon</td>\n",
       "      <td>San Francisco Bay Area</td>\n",
       "      <td>829</td>\n",
       "    </tr>\n",
       "    <tr>\n",
       "      <th>13</th>\n",
       "      <td>Benjamin Peterson</td>\n",
       "      <td>six</td>\n",
       "      <td>https://github.com/benjaminp/six</td>\n",
       "      <td>https://github.com/benjaminp</td>\n",
       "      <td></td>\n",
       "      <td>-</td>\n",
       "      <td>-</td>\n",
       "      <td>215</td>\n",
       "    </tr>\n",
       "    <tr>\n",
       "      <th>14</th>\n",
       "      <td>Xintao</td>\n",
       "      <td>Real-ESRGAN</td>\n",
       "      <td>https://github.com/xinntao/Real-ESRGAN</td>\n",
       "      <td>https://github.com/xinntao</td>\n",
       "      <td>Researcher at Tencent ARC Lab, (Applied Resear...</td>\n",
       "      <td>-</td>\n",
       "      <td>Shenzhen, China</td>\n",
       "      <td>357</td>\n",
       "    </tr>\n",
       "    <tr>\n",
       "      <th>15</th>\n",
       "      <td>Michael Dawson-Haggerty</td>\n",
       "      <td>trimesh</td>\n",
       "      <td>https://github.com/mikedh/trimesh</td>\n",
       "      <td>https://github.com/mikedh</td>\n",
       "      <td></td>\n",
       "      <td>-</td>\n",
       "      <td>Pittsburgh</td>\n",
       "      <td>1330</td>\n",
       "    </tr>\n",
       "    <tr>\n",
       "      <th>16</th>\n",
       "      <td>Ben Frederickson</td>\n",
       "      <td>implicit</td>\n",
       "      <td>https://github.com/benfred/implicit</td>\n",
       "      <td>https://github.com/benfred</td>\n",
       "      <td>Working on open source data science tools @NVIDIA</td>\n",
       "      <td>@NVIDIA</td>\n",
       "      <td>Vancouver, BC, Canada</td>\n",
       "      <td>1018</td>\n",
       "    </tr>\n",
       "    <tr>\n",
       "      <th>17</th>\n",
       "      <td>Andreas Klöckner</td>\n",
       "      <td>pudb</td>\n",
       "      <td>https://github.com/inducer/pudb</td>\n",
       "      <td>https://github.com/inducer</td>\n",
       "      <td></td>\n",
       "      <td>@matthiasdiener</td>\n",
       "      <td>Champaign, IL</td>\n",
       "      <td>2754</td>\n",
       "    </tr>\n",
       "    <tr>\n",
       "      <th>18</th>\n",
       "      <td>Florian Roth</td>\n",
       "      <td>Loki</td>\n",
       "      <td>https://github.com/Neo23x0/Loki</td>\n",
       "      <td>https://github.com/Neo23x0</td>\n",
       "      <td>#DFIR #Python #YARA #Golang #SIEM #SOC #Sigma ...</td>\n",
       "      <td>@NextronSystems</td>\n",
       "      <td>-</td>\n",
       "      <td>3068</td>\n",
       "    </tr>\n",
       "    <tr>\n",
       "      <th>19</th>\n",
       "      <td>Łukasz Langa</td>\n",
       "      <td>bitrot</td>\n",
       "      <td>https://github.com/ambv/bitrot</td>\n",
       "      <td>https://github.com/ambv</td>\n",
       "      <td>Python 3.8 &amp; 3.9 Release Manager. llanga on Tw...</td>\n",
       "      <td>@psf</td>\n",
       "      <td>Poznań, Poland</td>\n",
       "      <td>394</td>\n",
       "    </tr>\n",
       "    <tr>\n",
       "      <th>20</th>\n",
       "      <td>Erik Bernhardsson</td>\n",
       "      <td>ann-benchmarks</td>\n",
       "      <td>https://github.com/erikbern/ann-benchmarks</td>\n",
       "      <td>https://github.com/erikbern</td>\n",
       "      <td>Working on some weird ideas for data infra at ...</td>\n",
       "      <td>@modal-labs</td>\n",
       "      <td>New York City</td>\n",
       "      <td>4383</td>\n",
       "    </tr>\n",
       "    <tr>\n",
       "      <th>21</th>\n",
       "      <td>Sylvain Gugger</td>\n",
       "      <td>torchdynamo-tests</td>\n",
       "      <td>https://github.com/sgugger/torchdynamo-tests</td>\n",
       "      <td>https://github.com/sgugger</td>\n",
       "      <td>Research Engineer at HuggingFace</td>\n",
       "      <td>-</td>\n",
       "      <td>-</td>\n",
       "      <td>3847</td>\n",
       "    </tr>\n",
       "    <tr>\n",
       "      <th>22</th>\n",
       "      <td>Kyle Altendorf</td>\n",
       "      <td>pyqt-tools</td>\n",
       "      <td>https://github.com/altendky/pyqt-tools</td>\n",
       "      <td>https://github.com/altendky</td>\n",
       "      <td></td>\n",
       "      <td>-</td>\n",
       "      <td>-</td>\n",
       "      <td>3599</td>\n",
       "    </tr>\n",
       "    <tr>\n",
       "      <th>23</th>\n",
       "      <td>Thomas Kluyver</td>\n",
       "      <td>pyxdg</td>\n",
       "      <td>https://github.com/takluyver/pyxdg</td>\n",
       "      <td>https://github.com/takluyver</td>\n",
       "      <td></td>\n",
       "      <td>-</td>\n",
       "      <td>-</td>\n",
       "      <td>878</td>\n",
       "    </tr>\n",
       "  </tbody>\n",
       "</table>\n",
       "</div>"
      ],
      "text/plain": [
       "                       name     popular_repo_name  \\\n",
       "0           Romain Beaumont           img2dataset   \n",
       "1              Matthias Fey       pytorch_scatter   \n",
       "2       Charles Tapley Hoyt       opencheck-embed   \n",
       "3                  RangiLyu               nanodet   \n",
       "4               Xingyi Zhou             CenterNet   \n",
       "5               Costa Huang               cleanrl   \n",
       "6              Kentaro Wada               labelme   \n",
       "7      Maarten Grootendorst              BERTopic   \n",
       "8           Cyrille Rossant          awesome-math   \n",
       "9                    Wey Gu            nebula-dgl   \n",
       "10            Bane Sullivan          banesullivan   \n",
       "11            Ross Wightman  pytorch-image-models   \n",
       "12         Guido van Rossum             old-demos   \n",
       "13        Benjamin Peterson                   six   \n",
       "14                   Xintao           Real-ESRGAN   \n",
       "15  Michael Dawson-Haggerty               trimesh   \n",
       "16         Ben Frederickson              implicit   \n",
       "17         Andreas Klöckner                  pudb   \n",
       "18             Florian Roth                  Loki   \n",
       "19             Łukasz Langa                bitrot   \n",
       "20        Erik Bernhardsson        ann-benchmarks   \n",
       "21           Sylvain Gugger     torchdynamo-tests   \n",
       "22           Kyle Altendorf            pyqt-tools   \n",
       "23           Thomas Kluyver                 pyxdg   \n",
       "\n",
       "                                             repo_url  \\\n",
       "0              https://github.com/rom1504/img2dataset   \n",
       "1          https://github.com/rusty1s/pytorch_scatter   \n",
       "2           https://github.com/cthoyt/opencheck-embed   \n",
       "3                 https://github.com/RangiLyu/nanodet   \n",
       "4             https://github.com/xingyizhou/CenterNet   \n",
       "5                  https://github.com/vwxyzjn/cleanrl   \n",
       "6                 https://github.com/wkentaro/labelme   \n",
       "7               https://github.com/MaartenGr/BERTopic   \n",
       "8             https://github.com/rossant/awesome-math   \n",
       "9                https://github.com/wey-gu/nebula-dgl   \n",
       "10       https://github.com/banesullivan/banesullivan   \n",
       "11  https://github.com/rwightman/pytorch-image-models   \n",
       "12            https://github.com/gvanrossum/old-demos   \n",
       "13                   https://github.com/benjaminp/six   \n",
       "14             https://github.com/xinntao/Real-ESRGAN   \n",
       "15                  https://github.com/mikedh/trimesh   \n",
       "16                https://github.com/benfred/implicit   \n",
       "17                    https://github.com/inducer/pudb   \n",
       "18                    https://github.com/Neo23x0/Loki   \n",
       "19                     https://github.com/ambv/bitrot   \n",
       "20         https://github.com/erikbern/ann-benchmarks   \n",
       "21       https://github.com/sgugger/torchdynamo-tests   \n",
       "22             https://github.com/altendky/pyqt-tools   \n",
       "23                 https://github.com/takluyver/pyxdg   \n",
       "\n",
       "                        profile_url  \\\n",
       "0        https://github.com/rom1504   \n",
       "1        https://github.com/rusty1s   \n",
       "2         https://github.com/cthoyt   \n",
       "3       https://github.com/RangiLyu   \n",
       "4     https://github.com/xingyizhou   \n",
       "5        https://github.com/vwxyzjn   \n",
       "6       https://github.com/wkentaro   \n",
       "7      https://github.com/MaartenGr   \n",
       "8        https://github.com/rossant   \n",
       "9         https://github.com/wey-gu   \n",
       "10  https://github.com/banesullivan   \n",
       "11     https://github.com/rwightman   \n",
       "12    https://github.com/gvanrossum   \n",
       "13     https://github.com/benjaminp   \n",
       "14       https://github.com/xinntao   \n",
       "15        https://github.com/mikedh   \n",
       "16       https://github.com/benfred   \n",
       "17       https://github.com/inducer   \n",
       "18       https://github.com/Neo23x0   \n",
       "19          https://github.com/ambv   \n",
       "20      https://github.com/erikbern   \n",
       "21       https://github.com/sgugger   \n",
       "22      https://github.com/altendky   \n",
       "23     https://github.com/takluyver   \n",
       "\n",
       "                                                  bio          company  \\\n",
       "0   Interested in machine learning (computer visio...          @google   \n",
       "1   Creator of PyG (PyTorch Geometric) - Founding ...                -   \n",
       "2   Bio/cheminformatician, open scientist, maintai...           @pybel   \n",
       "3                     Deep Learning & Computer Vision                -   \n",
       "4                      CS Ph.D. student at UT Austin.                -   \n",
       "5   Computer Science Ph.D student at Drexel Univer...                -   \n",
       "6   Passionate about automation. Working on comput...           @mujin   \n",
       "7                       Data Scientist | Psychologist                -   \n",
       "8       Neuroscience researcher and software engineer   @int-brain-lab   \n",
       "9                      Developer Advocate @vesoft-inc      @vesoft-inc   \n",
       "10  visualization geek & open source R&D engineer....         @pyvista   \n",
       "11  Always learning, constantly curious. Building ...                -   \n",
       "12                                                        @markshannon   \n",
       "13                                                                   -   \n",
       "14  Researcher at Tencent ARC Lab, (Applied Resear...                -   \n",
       "15                                                                   -   \n",
       "16  Working on open source data science tools @NVIDIA          @NVIDIA   \n",
       "17                                                     @matthiasdiener   \n",
       "18  #DFIR #Python #YARA #Golang #SIEM #SOC #Sigma ...  @NextronSystems   \n",
       "19  Python 3.8 & 3.9 Release Manager. llanga on Tw...             @psf   \n",
       "20  Working on some weird ideas for data infra at ...      @modal-labs   \n",
       "21                   Research Engineer at HuggingFace                -   \n",
       "22                                                                   -   \n",
       "23                                                                   -   \n",
       "\n",
       "                  location contribution  \n",
       "0                    Paris         1848  \n",
       "1        Dortmund, Germany         4497  \n",
       "2            Bonn, Germany         5320  \n",
       "3                 Shanghai          891  \n",
       "4                   Austin          311  \n",
       "5         Philadelphia, PA         1122  \n",
       "6             Tokyo, Japan         1523  \n",
       "7     Netherlands, Tilburg           66  \n",
       "8                    Paris          922  \n",
       "9                 Shanghai         1608  \n",
       "10                Colorado         3607  \n",
       "11           Vancouver, BC          929  \n",
       "12  San Francisco Bay Area          829  \n",
       "13                       -          215  \n",
       "14         Shenzhen, China          357  \n",
       "15              Pittsburgh         1330  \n",
       "16   Vancouver, BC, Canada         1018  \n",
       "17           Champaign, IL         2754  \n",
       "18                       -         3068  \n",
       "19          Poznań, Poland          394  \n",
       "20           New York City         4383  \n",
       "21                       -         3847  \n",
       "22                       -         3599  \n",
       "23                       -          878  "
      ]
     },
     "execution_count": 38,
     "metadata": {},
     "output_type": "execute_result"
    }
   ],
   "source": [
    "ml_profiles_df=pd.concat([trending_df,profile_df],axis=1)\n",
    "ml_profiles_df"
   ]
  },
  {
   "cell_type": "markdown",
   "metadata": {},
   "source": [
    "#### saving this dataframe to a csv file"
   ]
  },
  {
   "cell_type": "code",
   "execution_count": 39,
   "metadata": {},
   "outputs": [],
   "source": [
    "ml_profiles_df.to_csv(\"G:/Machine_learning/github/web_scrapping_git/scrape_python_profiles/files/python_profiles.csv\")"
   ]
  }
 ],
 "metadata": {
  "kernelspec": {
   "display_name": "Python 3.10.7 64-bit",
   "language": "python",
   "name": "python3"
  },
  "language_info": {
   "codemirror_mode": {
    "name": "ipython",
    "version": 3
   },
   "file_extension": ".py",
   "mimetype": "text/x-python",
   "name": "python",
   "nbconvert_exporter": "python",
   "pygments_lexer": "ipython3",
   "version": "3.10.7"
  },
  "orig_nbformat": 4,
  "vscode": {
   "interpreter": {
    "hash": "45037c9fa964e33746a67959e611b1255904e81b18931a74a47f598c93f55abd"
   }
  }
 },
 "nbformat": 4,
 "nbformat_minor": 2
}
